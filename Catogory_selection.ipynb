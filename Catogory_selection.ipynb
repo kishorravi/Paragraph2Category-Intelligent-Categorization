{
  "nbformat": 4,
  "nbformat_minor": 0,
  "metadata": {
    "colab": {
      "provenance": []
    },
    "kernelspec": {
      "name": "python3",
      "display_name": "Python 3"
    },
    "language_info": {
      "name": "python"
    }
  },
  "cells": [
    {
      "cell_type": "code",
      "source": [
        "# prompt: OPEN GOOGLE DRIVE\n",
        "\n",
        "from google.colab import drive\n",
        "drive.mount('/content/drive')"
      ],
      "metadata": {
        "colab": {
          "base_uri": "https://localhost:8080/"
        },
        "id": "udRCHTeQkR7T",
        "outputId": "5b4de43c-889c-46b4-d396-5114f0fd594b"
      },
      "execution_count": 20,
      "outputs": [
        {
          "output_type": "stream",
          "name": "stdout",
          "text": [
            "Drive already mounted at /content/drive; to attempt to forcibly remount, call drive.mount(\"/content/drive\", force_remount=True).\n"
          ]
        }
      ]
    },
    {
      "cell_type": "code",
      "source": [
        "# ✅ Install required libraries\n",
        "!pip install keybert -q\n",
        "!pip install -U sentence-transformers -q\n",
        "# ✅ Import necessary libraries\n",
        "import pandas as pd\n",
        "from google.colab import drive\n",
        "from keybert import KeyBERT\n",
        "from sklearn.feature_extraction.text import TfidfVectorizer\n",
        "from sklearn.metrics.pairwise import cosine_similarity\n",
        "\n",
        "\n",
        "# ✅ Read Excel file and extract only 'Category Name' column (skip 'ID')\n",
        "file_path = '/content/drive/MyDrive/EVENT/Social_Event.xlsx'\n",
        "df = pd.read_excel(file_path)\n",
        "category_names = df['Category Name'][df['Category Name'] != 'ID'].dropna().tolist()\n",
        "# ✅ Extract keywords using KeyBERT\n",
        "kw_model = KeyBERT(model='all-MiniLM-L6-v2')\n"
      ],
      "metadata": {
        "id": "krSm43cCohfU"
      },
      "execution_count": 21,
      "outputs": []
    },
    {
      "cell_type": "code",
      "source": [
        "# ✅ Paragraph to test\n",
        "paragraph = \"\"\"\n",
        "The Oncology Department is pleased to host a seminar focused on raising awareness about colon cancer, its early detection, and advancements in treatment.\n",
        "This event aims to educate the public and healthcare professionals on the importance of timely screening, preventive measures, and supportive care.\n",
        "Featuring expert talks by leading oncologists and real-life experiences from survivors, the seminar will serve as a platform for knowledge sharing\n",
        "and community engagement. Attendees will have the opportunity to ask questions, access resources, and contribute to spreading awareness that could help save lives.\n",
        "\"\"\"\n",
        "\n",
        "\n",
        "keywords = kw_model.extract_keywords(paragraph, keyphrase_ngram_range=(1, 3), stop_words='english', top_n=10)\n",
        "keyword_list = [kw[0] for kw in keywords]\n",
        "keyword_text = \" \".join(keyword_list)\n",
        "\n",
        "# ✅ Match keywords with category names using TF-IDF similarity\n",
        "texts = category_names + [keyword_text]\n",
        "vectorizer = TfidfVectorizer().fit_transform(texts)\n",
        "cosine_sim = cosine_similarity(vectorizer[-1], vectorizer[:-1])\n",
        "\n",
        "# ✅ Get best and top 5 matching categories\n",
        "best_index = cosine_sim.argmax()\n",
        "top5_indices = cosine_sim[0].argsort()[-5:][::-1]\n",
        "top5_matches = [category_names[i] for i in top5_indices]\n",
        "\n",
        "# ✅ Print results\n",
        "print(\"🔍 Extracted Keywords:\", keyword_list)\n",
        "print(\"✅ Best Matching Category:\", category_names[best_index])\n",
        "print(\"✅ Top 5 Matching Categories:\", top5_matches)\n"
      ],
      "metadata": {
        "colab": {
          "base_uri": "https://localhost:8080/"
        },
        "id": "wbQJw8W9kgRX",
        "outputId": "26e6b701-092a-44f0-f603-b7e9c0eb4fd9"
      },
      "execution_count": 22,
      "outputs": [
        {
          "output_type": "stream",
          "name": "stdout",
          "text": [
            "🔍 Extracted Keywords: ['awareness colon cancer', 'colon cancer', 'colon cancer early', 'raising awareness colon', 'talks leading oncologists', 'oncology', 'oncology department pleased', 'survivors seminar serve', 'oncologists real life', 'oncology department']\n",
            "✅ Best Matching Category: Colon Cancer Seminar\n",
            "✅ Top 5 Matching Categories: ['Colon Cancer Seminar', 'Colon Cancer Forum', 'Colon Cancer Forum', 'Colon Cancer Forum', 'Colon Cancer Forum']\n"
          ]
        }
      ]
    }
  ]
}